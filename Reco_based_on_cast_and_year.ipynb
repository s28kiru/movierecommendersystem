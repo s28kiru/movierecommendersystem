{
 "cells": [
  {
   "cell_type": "code",
   "execution_count": 1,
   "metadata": {
    "collapsed": true
   },
   "outputs": [],
   "source": [
    "import pandas as pd\n",
    "import numpy as np\n",
    "import matplotlib.pyplot as plt\n",
    "import seaborn as sns\n",
    "%matplotlib inline"
   ]
  },
  {
   "cell_type": "markdown",
   "metadata": {},
   "source": [
    "name = pd.read_csv('name_basics.csv')\n",
    "akas = pd.read_csv('title_akas.csv')\n",
    "title = pd.read_csv('title_basics.csv')\n",
    "crew = pd.read_csv('title_crew.csv')\n",
    "episode = pd.read_csv('title_episode.csv')\n",
    "principle = pd.read_csv('title_principle.csv')\n",
    "ratings = pd.read_csv('title_ratings.csv')"
   ]
  },
  {
   "cell_type": "code",
   "execution_count": 2,
   "metadata": {},
   "outputs": [
    {
     "name": "stderr",
     "output_type": "stream",
     "text": [
      "C:\\ProgramData\\Anaconda3\\lib\\site-packages\\IPython\\core\\interactiveshell.py:2717: DtypeWarning: Columns (5) have mixed types. Specify dtype option on import or set low_memory=False.\n",
      "  interactivity=interactivity, compiler=compiler, result=result)\n"
     ]
    }
   ],
   "source": [
    "principle = pd.read_csv('title_principle.csv')\n",
    "title = pd.read_csv('title_basics.csv')\n",
    "name = pd.read_csv('name_basics.csv')\n",
    "links = pd.read_csv('links.csv')\n",
    "ratings = pd.read_csv('title_ratings.csv')"
   ]
  },
  {
   "cell_type": "code",
   "execution_count": 3,
   "metadata": {},
   "outputs": [],
   "source": [
    "#Drop unnecessary columns\n",
    "principle=principle.drop('job',axis=1)\n",
    "name=name.drop('knownForTitles',axis=1)"
   ]
  },
  {
   "cell_type": "code",
   "execution_count": 4,
   "metadata": {
    "collapsed": true
   },
   "outputs": [],
   "source": [
    "#Convert tconst into numeric\n",
    "title.tconst = title.tconst.str.replace('tt','')\n",
    "title.tconst = pd.to_numeric(title['tconst'], errors='coerce')"
   ]
  },
  {
   "cell_type": "code",
   "execution_count": 5,
   "metadata": {
    "collapsed": true
   },
   "outputs": [],
   "source": [
    "#Convert tconst into numeric\n",
    "ratings.tconst = ratings.tconst.str.replace('tt','')\n",
    "ratings.tconst = pd.to_numeric(ratings['tconst'], errors='coerce')"
   ]
  },
  {
   "cell_type": "code",
   "execution_count": 6,
   "metadata": {
    "collapsed": true
   },
   "outputs": [],
   "source": [
    "#convert tconst into numeric\n",
    "principle.tconst = principle.tconst.str.replace('tt','')\n",
    "principle.tconst = pd.to_numeric(principle['tconst'], errors='coerce')\n",
    "#principle[principle.tconst == 114709]"
   ]
  },
  {
   "cell_type": "code",
   "execution_count": 7,
   "metadata": {},
   "outputs": [],
   "source": [
    "#Filter the data from movie lens dataset in IMDB\n",
    "filter_titles=title.loc[title['tconst'].isin(links.imdbId)]\n",
    "#filter_titles=pd.merge(filter_titles,title)"
   ]
  },
  {
   "cell_type": "code",
   "execution_count": 8,
   "metadata": {
    "collapsed": true
   },
   "outputs": [],
   "source": [
    "#Filter the cast names associated to each movie and the principle cast names from IMDB and merge the filtered lists\n",
    "filter_cast_titles=principle.loc[principle['tconst'].isin(filter_titles.tconst)]\n",
    "filter_cast_titles=pd.merge(filter_cast_titles,filter_titles)"
   ]
  },
  {
   "cell_type": "code",
   "execution_count": 32,
   "metadata": {},
   "outputs": [
    {
     "data": {
      "text/html": [
       "<div>\n",
       "<style>\n",
       "    .dataframe thead tr:only-child th {\n",
       "        text-align: right;\n",
       "    }\n",
       "\n",
       "    .dataframe thead th {\n",
       "        text-align: left;\n",
       "    }\n",
       "\n",
       "    .dataframe tbody tr th {\n",
       "        vertical-align: top;\n",
       "    }\n",
       "</style>\n",
       "<table border=\"1\" class=\"dataframe\">\n",
       "  <thead>\n",
       "    <tr style=\"text-align: right;\">\n",
       "      <th></th>\n",
       "      <th>tconst</th>\n",
       "      <th>titleType</th>\n",
       "      <th>primaryTitle</th>\n",
       "      <th>originalTitle</th>\n",
       "      <th>isAdult</th>\n",
       "      <th>startYear</th>\n",
       "      <th>endYear</th>\n",
       "      <th>runtimeMinutes</th>\n",
       "      <th>genres</th>\n",
       "    </tr>\n",
       "  </thead>\n",
       "  <tbody>\n",
       "    <tr>\n",
       "      <th>414</th>\n",
       "      <td>417</td>\n",
       "      <td>short</td>\n",
       "      <td>A Trip to the Moon</td>\n",
       "      <td>Le voyage dans la lune</td>\n",
       "      <td>0</td>\n",
       "      <td>1902</td>\n",
       "      <td>\\N</td>\n",
       "      <td>13</td>\n",
       "      <td>Adventure,Fantasy,Sci-Fi</td>\n",
       "    </tr>\n",
       "    <tr>\n",
       "      <th>4912</th>\n",
       "      <td>4972</td>\n",
       "      <td>movie</td>\n",
       "      <td>The Birth of a Nation</td>\n",
       "      <td>The Birth of a Nation</td>\n",
       "      <td>0</td>\n",
       "      <td>1915</td>\n",
       "      <td>\\N</td>\n",
       "      <td>195</td>\n",
       "      <td>Drama,History,War</td>\n",
       "    </tr>\n",
       "    <tr>\n",
       "      <th>6258</th>\n",
       "      <td>6333</td>\n",
       "      <td>movie</td>\n",
       "      <td>20,000 Leagues Under the Sea</td>\n",
       "      <td>20,000 Leagues Under the Sea</td>\n",
       "      <td>0</td>\n",
       "      <td>1916</td>\n",
       "      <td>\\N</td>\n",
       "      <td>105</td>\n",
       "      <td>Action,Adventure,Sci-Fi</td>\n",
       "    </tr>\n",
       "    <tr>\n",
       "      <th>6781</th>\n",
       "      <td>6864</td>\n",
       "      <td>movie</td>\n",
       "      <td>Intolerance: Love's Struggle Throughout the Ages</td>\n",
       "      <td>Intolerance: Love's Struggle Throughout the Ages</td>\n",
       "      <td>0</td>\n",
       "      <td>1916</td>\n",
       "      <td>\\N</td>\n",
       "      <td>163</td>\n",
       "      <td>Drama,History</td>\n",
       "    </tr>\n",
       "    <tr>\n",
       "      <th>8026</th>\n",
       "      <td>8133</td>\n",
       "      <td>short</td>\n",
       "      <td>The Immigrant</td>\n",
       "      <td>The Immigrant</td>\n",
       "      <td>0</td>\n",
       "      <td>1917</td>\n",
       "      <td>\\N</td>\n",
       "      <td>30</td>\n",
       "      <td>Comedy,Drama,Romance</td>\n",
       "    </tr>\n",
       "  </tbody>\n",
       "</table>\n",
       "</div>"
      ],
      "text/plain": [
       "      tconst titleType                                      primaryTitle  \\\n",
       "414      417     short                                A Trip to the Moon   \n",
       "4912    4972     movie                             The Birth of a Nation   \n",
       "6258    6333     movie                      20,000 Leagues Under the Sea   \n",
       "6781    6864     movie  Intolerance: Love's Struggle Throughout the Ages   \n",
       "8026    8133     short                                     The Immigrant   \n",
       "\n",
       "                                         originalTitle  isAdult startYear  \\\n",
       "414                             Le voyage dans la lune        0      1902   \n",
       "4912                             The Birth of a Nation        0      1915   \n",
       "6258                      20,000 Leagues Under the Sea        0      1916   \n",
       "6781  Intolerance: Love's Struggle Throughout the Ages        0      1916   \n",
       "8026                                     The Immigrant        0      1917   \n",
       "\n",
       "     endYear runtimeMinutes                    genres  \n",
       "414       \\N             13  Adventure,Fantasy,Sci-Fi  \n",
       "4912      \\N            195         Drama,History,War  \n",
       "6258      \\N            105   Action,Adventure,Sci-Fi  \n",
       "6781      \\N            163             Drama,History  \n",
       "8026      \\N             30      Comedy,Drama,Romance  "
      ]
     },
     "execution_count": 32,
     "metadata": {},
     "output_type": "execute_result"
    }
   ],
   "source": [
    "filter_titles.head()"
   ]
  },
  {
   "cell_type": "code",
   "execution_count": 9,
   "metadata": {
    "collapsed": true
   },
   "outputs": [],
   "source": [
    "#Filter the cast from the IMDB dataset and merge the data to form an aggregated dataset\n",
    "filter_cast_titles_name=name.loc[name['nconst'].isin(filter_cast_titles.nconst)]\n",
    "merge_cast_title_name=pd.merge(filter_cast_titles_name,filter_cast_titles)"
   ]
  },
  {
   "cell_type": "code",
   "execution_count": 10,
   "metadata": {
    "collapsed": true
   },
   "outputs": [],
   "source": [
    "#merge the ratings and aggregated list\n",
    "merge_cast_title_name_ranks=pd.merge(merge_cast_title_name,ratings)\n",
    "merge_cast_title_name_ranks.primaryName=merge_cast_title_name_ranks.primaryName.str.lower()"
   ]
  },
  {
   "cell_type": "code",
   "execution_count": 55,
   "metadata": {},
   "outputs": [
    {
     "data": {
      "text/html": [
       "<div>\n",
       "<style>\n",
       "    .dataframe thead tr:only-child th {\n",
       "        text-align: right;\n",
       "    }\n",
       "\n",
       "    .dataframe thead th {\n",
       "        text-align: left;\n",
       "    }\n",
       "\n",
       "    .dataframe tbody tr th {\n",
       "        vertical-align: top;\n",
       "    }\n",
       "</style>\n",
       "<table border=\"1\" class=\"dataframe\">\n",
       "  <thead>\n",
       "    <tr style=\"text-align: right;\">\n",
       "      <th></th>\n",
       "      <th>nconst</th>\n",
       "      <th>primaryName</th>\n",
       "      <th>birthYear</th>\n",
       "      <th>deathYear</th>\n",
       "      <th>primaryProfession</th>\n",
       "      <th>tconst</th>\n",
       "      <th>ordering</th>\n",
       "      <th>category</th>\n",
       "      <th>characters</th>\n",
       "      <th>titleType</th>\n",
       "      <th>primaryTitle</th>\n",
       "      <th>originalTitle</th>\n",
       "      <th>isAdult</th>\n",
       "      <th>startYear</th>\n",
       "      <th>endYear</th>\n",
       "      <th>runtimeMinutes</th>\n",
       "      <th>genres</th>\n",
       "      <th>averageRating</th>\n",
       "      <th>numVotes</th>\n",
       "    </tr>\n",
       "  </thead>\n",
       "  <tbody>\n",
       "    <tr>\n",
       "      <th>0</th>\n",
       "      <td>nm0000001</td>\n",
       "      <td>Fred Astaire</td>\n",
       "      <td>1899</td>\n",
       "      <td>1987</td>\n",
       "      <td>soundtrack,actor,miscellaneous</td>\n",
       "      <td>25164</td>\n",
       "      <td>1</td>\n",
       "      <td>actor</td>\n",
       "      <td>[\"Guy Holden\"]</td>\n",
       "      <td>movie</td>\n",
       "      <td>The Gay Divorcee</td>\n",
       "      <td>The Gay Divorcee</td>\n",
       "      <td>0</td>\n",
       "      <td>1934</td>\n",
       "      <td>\\N</td>\n",
       "      <td>107</td>\n",
       "      <td>Comedy,Musical,Romance</td>\n",
       "      <td>7.6</td>\n",
       "      <td>5847</td>\n",
       "    </tr>\n",
       "    <tr>\n",
       "      <th>1</th>\n",
       "      <td>nm0001677</td>\n",
       "      <td>Ginger Rogers</td>\n",
       "      <td>1911</td>\n",
       "      <td>1995</td>\n",
       "      <td>actress,soundtrack</td>\n",
       "      <td>25164</td>\n",
       "      <td>2</td>\n",
       "      <td>actress</td>\n",
       "      <td>[\"Mimi Glossop\"]</td>\n",
       "      <td>movie</td>\n",
       "      <td>The Gay Divorcee</td>\n",
       "      <td>The Gay Divorcee</td>\n",
       "      <td>0</td>\n",
       "      <td>1934</td>\n",
       "      <td>\\N</td>\n",
       "      <td>107</td>\n",
       "      <td>Comedy,Musical,Romance</td>\n",
       "      <td>7.6</td>\n",
       "      <td>5847</td>\n",
       "    </tr>\n",
       "    <tr>\n",
       "      <th>2</th>\n",
       "      <td>nm0002143</td>\n",
       "      <td>Edward Everett Horton</td>\n",
       "      <td>1886</td>\n",
       "      <td>1970</td>\n",
       "      <td>actor,soundtrack,director</td>\n",
       "      <td>25164</td>\n",
       "      <td>4</td>\n",
       "      <td>actor</td>\n",
       "      <td>[\"Egbert 'Pinky' Fitzgerald\"]</td>\n",
       "      <td>movie</td>\n",
       "      <td>The Gay Divorcee</td>\n",
       "      <td>The Gay Divorcee</td>\n",
       "      <td>0</td>\n",
       "      <td>1934</td>\n",
       "      <td>\\N</td>\n",
       "      <td>107</td>\n",
       "      <td>Comedy,Musical,Romance</td>\n",
       "      <td>7.6</td>\n",
       "      <td>5847</td>\n",
       "    </tr>\n",
       "    <tr>\n",
       "      <th>3</th>\n",
       "      <td>nm0103567</td>\n",
       "      <td>Alice Brady</td>\n",
       "      <td>1892</td>\n",
       "      <td>1939</td>\n",
       "      <td>actress,soundtrack</td>\n",
       "      <td>25164</td>\n",
       "      <td>3</td>\n",
       "      <td>actress</td>\n",
       "      <td>[\"Aunt Hortense\"]</td>\n",
       "      <td>movie</td>\n",
       "      <td>The Gay Divorcee</td>\n",
       "      <td>The Gay Divorcee</td>\n",
       "      <td>0</td>\n",
       "      <td>1934</td>\n",
       "      <td>\\N</td>\n",
       "      <td>107</td>\n",
       "      <td>Comedy,Musical,Romance</td>\n",
       "      <td>7.6</td>\n",
       "      <td>5847</td>\n",
       "    </tr>\n",
       "    <tr>\n",
       "      <th>4</th>\n",
       "      <td>nm0388755</td>\n",
       "      <td>Samuel Hoffenstein</td>\n",
       "      <td>1890</td>\n",
       "      <td>1947</td>\n",
       "      <td>writer</td>\n",
       "      <td>25164</td>\n",
       "      <td>8</td>\n",
       "      <td>writer</td>\n",
       "      <td>\\N</td>\n",
       "      <td>movie</td>\n",
       "      <td>The Gay Divorcee</td>\n",
       "      <td>The Gay Divorcee</td>\n",
       "      <td>0</td>\n",
       "      <td>1934</td>\n",
       "      <td>\\N</td>\n",
       "      <td>107</td>\n",
       "      <td>Comedy,Musical,Romance</td>\n",
       "      <td>7.6</td>\n",
       "      <td>5847</td>\n",
       "    </tr>\n",
       "  </tbody>\n",
       "</table>\n",
       "</div>"
      ],
      "text/plain": [
       "      nconst            primaryName birthYear deathYear  \\\n",
       "0  nm0000001           Fred Astaire      1899      1987   \n",
       "1  nm0001677          Ginger Rogers      1911      1995   \n",
       "2  nm0002143  Edward Everett Horton      1886      1970   \n",
       "3  nm0103567            Alice Brady      1892      1939   \n",
       "4  nm0388755     Samuel Hoffenstein      1890      1947   \n",
       "\n",
       "                primaryProfession  tconst  ordering category  \\\n",
       "0  soundtrack,actor,miscellaneous   25164         1    actor   \n",
       "1              actress,soundtrack   25164         2  actress   \n",
       "2       actor,soundtrack,director   25164         4    actor   \n",
       "3              actress,soundtrack   25164         3  actress   \n",
       "4                          writer   25164         8   writer   \n",
       "\n",
       "                      characters titleType      primaryTitle  \\\n",
       "0                 [\"Guy Holden\"]     movie  The Gay Divorcee   \n",
       "1               [\"Mimi Glossop\"]     movie  The Gay Divorcee   \n",
       "2  [\"Egbert 'Pinky' Fitzgerald\"]     movie  The Gay Divorcee   \n",
       "3              [\"Aunt Hortense\"]     movie  The Gay Divorcee   \n",
       "4                             \\N     movie  The Gay Divorcee   \n",
       "\n",
       "      originalTitle  isAdult startYear endYear runtimeMinutes  \\\n",
       "0  The Gay Divorcee        0      1934      \\N            107   \n",
       "1  The Gay Divorcee        0      1934      \\N            107   \n",
       "2  The Gay Divorcee        0      1934      \\N            107   \n",
       "3  The Gay Divorcee        0      1934      \\N            107   \n",
       "4  The Gay Divorcee        0      1934      \\N            107   \n",
       "\n",
       "                   genres  averageRating  numVotes  \n",
       "0  Comedy,Musical,Romance            7.6      5847  \n",
       "1  Comedy,Musical,Romance            7.6      5847  \n",
       "2  Comedy,Musical,Romance            7.6      5847  \n",
       "3  Comedy,Musical,Romance            7.6      5847  \n",
       "4  Comedy,Musical,Romance            7.6      5847  "
      ]
     },
     "execution_count": 55,
     "metadata": {},
     "output_type": "execute_result"
    }
   ],
   "source": [
    "merge_cast_title_name_ranks.head()"
   ]
  },
  {
   "cell_type": "code",
   "execution_count": 12,
   "metadata": {},
   "outputs": [
    {
     "name": "stdout",
     "output_type": "stream",
     "text": [
      "enter your favourite cast nameTom Hanks\n",
      "enter 1 if toprated or 2 if popular:2\n",
      "primaryTitle  numVotes  averageRating  numVotes\n",
      "       Forrest Gump   1480633            8.8   1480633\n",
      "Saving Private Ryan   1028336            8.6   1028336\n",
      "     The Green Mile    929737            8.5    929737\n",
      "          Toy Story    732770            8.3    732770\n",
      "Catch Me If You Can    654458            8.1    654458\n",
      "        Toy Story 3    634927            8.3    634927\n",
      "          Cast Away    446123            7.8    446123\n",
      "        Toy Story 2    436599            7.9    436599\n",
      "   Captain Phillips    367200            7.8    367200\n",
      "  The Da Vinci Code    355093            6.6    355093\n"
     ]
    }
   ],
   "source": [
    "#Suggest top rated movies or popular movies related each cast depending on user inputs\n",
    "a = input('enter your favourite cast name')\n",
    "b = input('enter 1 if toprated or 2 if popular:')\n",
    "a=a.lower()\n",
    "b=int(b)\n",
    "if b ==1:\n",
    "    reco=merge_cast_title_name_ranks[merge_cast_title_name_ranks.primaryName.str.contains(a)]\n",
    "    output=reco.nlargest(10,'averageRating')\n",
    "    df=output[['primaryTitle','numVotes','averageRating','numVotes']]\n",
    "    print (df.to_string(index=False))\n",
    "elif b ==2:\n",
    "    reco=merge_cast_title_name_ranks[merge_cast_title_name_ranks.primaryName.str.contains(a)]\n",
    "    output=reco.nlargest(10,'numVotes')\n",
    "    df=output[['primaryTitle','numVotes','averageRating','numVotes']]\n",
    "    print (df.to_string(index=False))"
   ]
  },
  {
   "cell_type": "code",
   "execution_count": 13,
   "metadata": {},
   "outputs": [],
   "source": [
    "#Merge the ratings and titles tables so that ratings and titles are present at one place\n",
    "filter_titles_ratings=pd.merge(ratings,filter_titles)\n",
    "#filter_titles_ratings.startYear=filter_titles_ratings.startYear.isnull().value_counts()"
   ]
  },
  {
   "cell_type": "code",
   "execution_count": 16,
   "metadata": {},
   "outputs": [
    {
     "name": "stdout",
     "output_type": "stream",
     "text": [
      "enter the year in which you are interested to know about2016\n",
      "primaryTitle  numVotes  averageRating  numVotes\n",
      "                          Deadpool    722905            8.0    722905\n",
      "Batman v Superman: Dawn of Justice    532017            6.6    532017\n",
      "        Captain America: Civil War    497113            7.8    497113\n",
      "                   Stranger Things    480355            8.9    480355\n",
      "                     Suicide Squad    476732            6.1    476732\n",
      "                          Zootopia    343853            8.0    343853\n",
      "                 X-Men: Apocalypse    318266            7.0    318266\n",
      "               10 Cloverfield Lane    235852            7.2    235852\n",
      "                   The Jungle Book    224498            7.4    224498\n",
      "                     The Nice Guys    213845            7.4    213845\n"
     ]
    }
   ],
   "source": [
    "#Suggest top 10 popular movies based on the year\n",
    "a = input('enter the year in which you are interested to know about')\n",
    "reco=filter_titles_ratings[filter_titles_ratings.startYear.str.strip() == a]\n",
    "output=reco.nlargest(10,'numVotes')\n",
    "df=output[['primaryTitle','numVotes','averageRating','numVotes']]\n",
    "print (df.to_string(index=False))"
   ]
  }
 ],
 "metadata": {
  "kernelspec": {
   "display_name": "Python 3",
   "language": "python",
   "name": "python3"
  },
  "language_info": {
   "codemirror_mode": {
    "name": "ipython",
    "version": 3
   },
   "file_extension": ".py",
   "mimetype": "text/x-python",
   "name": "python",
   "nbconvert_exporter": "python",
   "pygments_lexer": "ipython3",
   "version": "3.6.1"
  }
 },
 "nbformat": 4,
 "nbformat_minor": 2
}
